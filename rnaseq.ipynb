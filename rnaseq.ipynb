{
  "cells": [
    {
      "cell_type": "raw",
      "metadata": {},
      "source": [
        "---\n",
        "title: \"rnaseq pipeline\"\n",
        "author: \"Mick Lee and Wilson Tan\" \n",
        "---"
      ],
      "id": "4756cb30"
    },
    {
      "cell_type": "markdown",
      "metadata": {},
      "source": [
        "This pipeline will take in paired-end FASTQ files, and produce gene count as output.\n",
        "\n",
        "This is a general outline of the Bulk RNA-sequencing Analysis\n",
        "\n",
        "![](images/RNAseq_workflow.jpg)\n",
        "\n",
        "\n",
        "```{bash}\n",
        "#!/bin/bash\n",
        "##INPUT ARGUMENT (DO NOT EDIT)\n",
        "##BASH DEFAULT USER ARGUMENT READING FROM COMMAND LINE\n",
        "SAMPLENAME=$1\n",
        "FASTQ_READ1=$2\n",
        "FASTQ_READ2=$3\n",
        "GENOME=$4\n",
        "\n",
        "\n",
        "#AFTER TRIMMING (DO NOT EDIT)\n",
        "TF1=$(echo $(basename $FASTQ_READ1) | sed 's/.fastq.gz//')\"_val_1.fq.gz\"\n",
        "TF2=$(echo $(basename $FASTQ_READ2) | sed 's/.fastq.gz//')\"_val_2.fq.gz\"\n",
        "\n",
        "##EDIT DURING SETUP\n",
        "###TOOLS:\n",
        "TRIM=trim_galore\n",
        "STAR=/mnt/projects/rpd/apps/star-2.5.3a/bin/STAR\n",
        "HTSEQCOUNT=/mnt/software/bin/htseq-count\n",
        "SAMTOOLS=/mnt/bin/software\n",
        "\n",
        "###DATABASE/ANNOTATION:\n",
        "ADAPTOR=/mnt/projects/wlwtan/cardiac_epigenetics/foolab/jenny/mar2020/rnaseq/analysis_adaptor/illumina.fa\n",
        "STARIND=\"/mnt/projects/rpd/genomes/\"$GENOME\"/star\"\n",
        "STARFASTA=\"/mnt/projects/rpd/genomes/\"$GENOME\"/\"$GENOME\".fa\"\n",
        "GTF=\"/mnt/projects/rpd/genomes/\"$GENOME\"/gtf/\"$GENOME\"_annotation.gtf\"\n",
        "\n",
        "###PARAMETERS:\n",
        "THREAD=4\n",
        "\n",
        "\n",
        "##ACTUAL COMMANDS:\n",
        "\n",
        "mkdir $SAMPLENAME\n",
        "cd $SAMPLENAME\n",
        "\n",
        "## Trimming of adaptors and base quality\n",
        "$TRIM --fastqc --gzip --length 100 --paired $FASTQ_READ1 $FASTQ_READ2\n",
        "\n",
        "## STAR alignment\n",
        "$STAR --runThreadN $THREAD --genomeDir $STARIND --readFilesCommand zcat --outFileNamePrefix RNASEQ --outSAMtype BAM Unsorted --readFilesIn $TF1 $TF2\n",
        "$STAR --runThreadN $THREAD --genomeDir $STARIND --sjdbFileChrStartEnd RNASEQSJ.out.tab --readFilesCommand zcat --outFileNamePrefix RNASEQ.2Pass --outSAMtype BAM Unsorted --readFilesIn $TF1 $TF2\n",
        "\n",
        "## sort the bam files by name and count by htseq-count for EdgeR/DESeq analysis\n",
        "$SAMTOOLS sort -n rnaseqtrimmedAligned.out.bam name_rnaseqtrimmedAligned.out\n",
        "$HTSEQCOUNT -f bam -r name -s no -m union name_rnaseqtrimmedAligned.out.bam $GTF > count.txt\n",
        "```"
      ],
      "id": "265340c4"
    }
  ],
  "metadata": {
    "kernelspec": {
      "display_name": "Python 3",
      "language": "python",
      "name": "python3"
    }
  },
  "nbformat": 4,
  "nbformat_minor": 5
}